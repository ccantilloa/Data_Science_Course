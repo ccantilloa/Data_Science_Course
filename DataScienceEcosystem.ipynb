{
 "cells": [
  {
   "cell_type": "markdown",
   "id": "ea718aa9-19ad-4e00-b2e9-b2a6a5824488",
   "metadata": {},
   "source": [
    "# H1 Data Science Tools and Ecosystem"
   ]
  },
  {
   "cell_type": "markdown",
   "id": "0cf46598-4bb7-4a15-9205-338d5bba0e51",
   "metadata": {},
   "source": [
    "In this notebook, Data Science Tools and Ecosystem are summarized.\n"
   ]
  },
  {
   "cell_type": "markdown",
   "id": "3de5b080-9901-4c0d-9303-7694456c6fc0",
   "metadata": {},
   "source": [
    "**Objectives:**\n",
    "- List popular languages for Data Science\n",
    "- List commonly used librares for data science\n",
    "- Give examples of the type of operations and coding in data science"
   ]
  },
  {
   "cell_type": "markdown",
   "id": "b3dffd8f-e952-44e7-bb30-614990f42fc3",
   "metadata": {},
   "source": [
    "## Author\n",
    "Carlos Andres Castro Cantillo"
   ]
  },
  {
   "cell_type": "markdown",
   "id": "c5de560f-1ccb-4304-ba4a-40d37a89fba1",
   "metadata": {},
   "source": [
    "Some of the popular languages that Data Scientists use are:\n",
    "1. Python\n",
    "2. R\n",
    "3. Julia"
   ]
  },
  {
   "cell_type": "markdown",
   "id": "83a2c425-5d95-46c4-a05b-3648253b962b",
   "metadata": {},
   "source": [
    "Some of the commonly used libraries used by Data Scientists include:\n",
    "1. Pandas\n",
    "2. Skit-Learn\n",
    "3. Matplotlib"
   ]
  },
  {
   "cell_type": "markdown",
   "id": "9620433a-3a94-4526-8e08-55c61a1781ea",
   "metadata": {},
   "source": [
    "|Data Science Tools|\n",
    "|:-----------------:|\n",
    "|Jupyter Notebooks|\n",
    "|JupyterLab|\n",
    "|Visual Studio Code|\n"
   ]
  },
  {
   "cell_type": "markdown",
   "id": "415ae4ce-8258-4a9b-bdf6-77c6358dda74",
   "metadata": {},
   "source": [
    "### H3 Below are a few examples of evaluating arithmetic expressions in Python"
   ]
  },
  {
   "cell_type": "code",
   "execution_count": 3,
   "id": "06d8f710-0137-41fd-8195-a4fbab6b0970",
   "metadata": {},
   "outputs": [
    {
     "data": {
      "text/plain": [
       "17"
      ]
     },
     "execution_count": 3,
     "metadata": {},
     "output_type": "execute_result"
    }
   ],
   "source": [
    "#This a simple arithmetic expression to mutiply then add integers\n",
    "3*4+5"
   ]
  },
  {
   "cell_type": "code",
   "execution_count": 4,
   "id": "b6d83433-53d7-4446-8723-b8dc127822d0",
   "metadata": {},
   "outputs": [
    {
     "data": {
      "text/plain": [
       "3.3333333333333335"
      ]
     },
     "execution_count": 4,
     "metadata": {},
     "output_type": "execute_result"
    }
   ],
   "source": [
    "# This will convert 200 minutes to hours by diving by 60\n",
    "200/60"
   ]
  },
  {
   "cell_type": "code",
   "execution_count": null,
   "id": "2ada6717-a0ce-4494-a7e7-58476c3ac4af",
   "metadata": {},
   "outputs": [],
   "source": []
  }
 ],
 "metadata": {
  "kernelspec": {
   "display_name": "Python 3 (ipykernel)",
   "language": "python",
   "name": "python3"
  },
  "language_info": {
   "codemirror_mode": {
    "name": "ipython",
    "version": 3
   },
   "file_extension": ".py",
   "mimetype": "text/x-python",
   "name": "python",
   "nbconvert_exporter": "python",
   "pygments_lexer": "ipython3",
   "version": "3.12.7"
  }
 },
 "nbformat": 4,
 "nbformat_minor": 5
}
